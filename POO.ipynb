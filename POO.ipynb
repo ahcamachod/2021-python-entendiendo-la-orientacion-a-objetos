{
  "nbformat": 4,
  "nbformat_minor": 0,
  "metadata": {
    "colab": {
      "provenance": [],
      "authorship_tag": "ABX9TyPd9hY123wP86/dk+BWCxZg",
      "include_colab_link": true
    },
    "kernelspec": {
      "name": "python3",
      "display_name": "Python 3"
    },
    "language_info": {
      "name": "python"
    }
  },
  "cells": [
    {
      "cell_type": "markdown",
      "metadata": {
        "id": "view-in-github",
        "colab_type": "text"
      },
      "source": [
        "<a href=\"https://colab.research.google.com/github/ahcamachod/2021-python-entendiendo-la-orientacion-a-objetos/blob/proyecto-final/POO.ipynb\" target=\"_parent\"><img src=\"https://colab.research.google.com/assets/colab-badge.svg\" alt=\"Open In Colab\"/></a>"
      ]
    },
    {
      "cell_type": "markdown",
      "source": [
        "# La programación orientada a objetos"
      ],
      "metadata": {
        "id": "RgzuglSn3gF_"
      }
    },
    {
      "cell_type": "code",
      "execution_count": null,
      "metadata": {
        "id": "gRiUeRii3V43"
      },
      "outputs": [],
      "source": [
        "# numero, titular, saldo, agencia, limite\n",
        "\n",
        "numero = 123\n",
        "titular = 'Alvaro'\n",
        "saldo = 55.0\n",
        "limite = 1000.0"
      ]
    },
    {
      "cell_type": "code",
      "source": [
        "print(numero) # Puedes imprimir lo que hay en cada variable"
      ],
      "metadata": {
        "colab": {
          "base_uri": "https://localhost:8080/"
        },
        "id": "kMI58TtJ3-Fn",
        "outputId": "e383babe-d6a6-4597-8fad-0d5246ce46e7"
      },
      "execution_count": null,
      "outputs": [
        {
          "output_type": "stream",
          "name": "stdout",
          "text": [
            "123\n"
          ]
        }
      ]
    },
    {
      "cell_type": "code",
      "source": [
        "numero_1 = 321\n",
        "titular_1 = 'Jose'\n",
        "saldo_1 = 100.0\n",
        "limite_1 = 1000.0"
      ],
      "metadata": {
        "id": "3MF8_ivL3_sB"
      },
      "execution_count": null,
      "outputs": []
    },
    {
      "cell_type": "code",
      "source": [
        "print(titular_1)"
      ],
      "metadata": {
        "colab": {
          "base_uri": "https://localhost:8080/"
        },
        "id": "QXiPvFYK4URp",
        "outputId": "e2655854-ddee-4ef1-ee29-45f72fd34377"
      },
      "execution_count": null,
      "outputs": [
        {
          "output_type": "stream",
          "name": "stdout",
          "text": [
            "Jose\n"
          ]
        }
      ]
    },
    {
      "cell_type": "code",
      "source": [
        "cuenta = {'numero':123,\n",
        "          'titular':'Alvaro',\n",
        "          'saldo': 55.0,\n",
        "          'limite': 1000.0}"
      ],
      "metadata": {
        "id": "Mh7xnFyp4ZSQ"
      },
      "execution_count": null,
      "outputs": []
    },
    {
      "cell_type": "code",
      "source": [
        "cuenta['titular']"
      ],
      "metadata": {
        "colab": {
          "base_uri": "https://localhost:8080/",
          "height": 35
        },
        "id": "YTXdx3zF44lC",
        "outputId": "beca0c5e-f0c4-4278-a0ee-8f93ec8056a7"
      },
      "execution_count": null,
      "outputs": [
        {
          "output_type": "execute_result",
          "data": {
            "text/plain": [
              "'Alvaro'"
            ],
            "application/vnd.google.colaboratory.intrinsic+json": {
              "type": "string"
            }
          },
          "metadata": {},
          "execution_count": 6
        }
      ]
    },
    {
      "cell_type": "code",
      "source": [
        "cuenta_1 = {'numero':321,\n",
        "            'titular':'Jose',\n",
        "            'saldo': 100.0,\n",
        "            'limite': 1000.0}"
      ],
      "metadata": {
        "id": "wWOqK1ei48ZB"
      },
      "execution_count": null,
      "outputs": []
    },
    {
      "cell_type": "code",
      "source": [
        "cuenta_1['limite']"
      ],
      "metadata": {
        "colab": {
          "base_uri": "https://localhost:8080/"
        },
        "id": "OAXH55uU5Iqx",
        "outputId": "422d94a5-daeb-4525-84da-0798087fcef9"
      },
      "execution_count": null,
      "outputs": [
        {
          "output_type": "execute_result",
          "data": {
            "text/plain": [
              "1000.0"
            ]
          },
          "metadata": {},
          "execution_count": 8
        }
      ]
    },
    {
      "cell_type": "code",
      "source": [
        "def cuenta(numero, titular, saldo, limite):\n",
        "  cuenta = {'numero':numero,\n",
        "            'titular':titular,\n",
        "            'saldo': saldo,\n",
        "            'limite': limite}\n",
        "  return cuenta"
      ],
      "metadata": {
        "id": "-3rhTlNn5LIS"
      },
      "execution_count": null,
      "outputs": []
    },
    {
      "cell_type": "code",
      "source": [
        "cuenta(321,'Jose',100.0,1000.0)"
      ],
      "metadata": {
        "colab": {
          "base_uri": "https://localhost:8080/"
        },
        "id": "CCcbKP015nbJ",
        "outputId": "ca39077a-cbcb-4721-bcef-b54f5109b6e9"
      },
      "execution_count": null,
      "outputs": [
        {
          "output_type": "execute_result",
          "data": {
            "text/plain": [
              "{'numero': 321, 'titular': 'Jose', 'saldo': 100.0, 'limite': 1000.0}"
            ]
          },
          "metadata": {},
          "execution_count": 10
        }
      ]
    },
    {
      "cell_type": "code",
      "source": [
        "cuenta_1 = cuenta(321,'Jose',100.0,1000.0)"
      ],
      "metadata": {
        "id": "blu-PAIO55AB"
      },
      "execution_count": null,
      "outputs": []
    },
    {
      "cell_type": "code",
      "source": [
        "cuenta_1['numero']"
      ],
      "metadata": {
        "colab": {
          "base_uri": "https://localhost:8080/"
        },
        "id": "-EtMpawq6N95",
        "outputId": "17331bea-7dca-4972-a36f-fa903a6fa6e0"
      },
      "execution_count": null,
      "outputs": [
        {
          "output_type": "execute_result",
          "data": {
            "text/plain": [
              "321"
            ]
          },
          "metadata": {},
          "execution_count": 12
        }
      ]
    },
    {
      "cell_type": "code",
      "source": [
        "def retira(cuenta,valor):\n",
        "  cuenta['saldo'] -= valor\n",
        "\n",
        "def deposita(cuenta,valor):\n",
        "  cuenta['saldo'] += valor\n",
        "\n",
        "def extracto(cuenta):\n",
        "  print(f'El saldo de la cuenta de {cuenta[\"titular\"]} es: {cuenta[\"saldo\"]}')"
      ],
      "metadata": {
        "id": "-4P7N3Wc8rhD"
      },
      "execution_count": null,
      "outputs": []
    },
    {
      "cell_type": "code",
      "source": [
        "retira(cuenta_1,40)"
      ],
      "metadata": {
        "id": "vIu-a19b-CTo"
      },
      "execution_count": null,
      "outputs": []
    },
    {
      "cell_type": "code",
      "source": [
        "extracto(cuenta_1)"
      ],
      "metadata": {
        "colab": {
          "base_uri": "https://localhost:8080/"
        },
        "id": "GLCeiBda-G3K",
        "outputId": "0f5083ce-a6c0-41ae-e5ed-e1447c6269b2"
      },
      "execution_count": null,
      "outputs": [
        {
          "output_type": "stream",
          "name": "stdout",
          "text": [
            "El saldo de la cuenta de Jose es: 60.0\n"
          ]
        }
      ]
    },
    {
      "cell_type": "code",
      "source": [
        "deposita(cuenta_1,100.0)"
      ],
      "metadata": {
        "id": "77FFV02C-LAJ"
      },
      "execution_count": null,
      "outputs": []
    },
    {
      "cell_type": "code",
      "source": [
        "extracto(cuenta_1)"
      ],
      "metadata": {
        "colab": {
          "base_uri": "https://localhost:8080/"
        },
        "id": "rmb-GzF8-REx",
        "outputId": "8906472b-071d-4ca8-b949-b336760f3d18"
      },
      "execution_count": null,
      "outputs": [
        {
          "output_type": "stream",
          "name": "stdout",
          "text": [
            "El saldo de la cuenta de Jose es: 160.0\n"
          ]
        }
      ]
    },
    {
      "cell_type": "code",
      "source": [
        "cuenta_2 = {'numero':321,\n",
        "            'limite': 1000.0}"
      ],
      "metadata": {
        "id": "CirCQ4hT-TQB"
      },
      "execution_count": null,
      "outputs": []
    },
    {
      "cell_type": "code",
      "source": [
        "# extracto(cuenta_2)"
      ],
      "metadata": {
        "id": "dhIGJ6UW--2C"
      },
      "execution_count": null,
      "outputs": []
    },
    {
      "cell_type": "code",
      "source": [
        "class Cuenta:\n",
        "  print('La receta esta lista para recibir instrucciones')"
      ],
      "metadata": {
        "colab": {
          "base_uri": "https://localhost:8080/"
        },
        "id": "vRW3-9yODHgy",
        "outputId": "e299dbe6-662a-47a0-d02c-24499daedbd2"
      },
      "execution_count": null,
      "outputs": [
        {
          "output_type": "stream",
          "name": "stdout",
          "text": [
            "La receta esta lista para recibir instrucciones\n"
          ]
        }
      ]
    },
    {
      "cell_type": "code",
      "source": [
        "cuenta = Cuenta()"
      ],
      "metadata": {
        "id": "1YW-e1HhFMGy"
      },
      "execution_count": null,
      "outputs": []
    },
    {
      "cell_type": "code",
      "source": [
        "cuenta"
      ],
      "metadata": {
        "colab": {
          "base_uri": "https://localhost:8080/"
        },
        "id": "9-_FdpEFFaxi",
        "outputId": "38d8a31b-ce8a-4d20-dc2f-aa1616f9068c"
      },
      "execution_count": null,
      "outputs": [
        {
          "output_type": "execute_result",
          "data": {
            "text/plain": [
              "<__main__.Cuenta at 0x7f4263339960>"
            ]
          },
          "metadata": {},
          "execution_count": 22
        }
      ]
    },
    {
      "cell_type": "code",
      "source": [
        "type(cuenta)"
      ],
      "metadata": {
        "colab": {
          "base_uri": "https://localhost:8080/"
        },
        "id": "dvcnVME9Fc0a",
        "outputId": "98f682a3-521a-4cd0-b268-1c2e1cdae58e"
      },
      "execution_count": null,
      "outputs": [
        {
          "output_type": "execute_result",
          "data": {
            "text/plain": [
              "__main__.Cuenta"
            ]
          },
          "metadata": {},
          "execution_count": 23
        }
      ]
    },
    {
      "cell_type": "code",
      "source": [
        "cuenta"
      ],
      "metadata": {
        "colab": {
          "base_uri": "https://localhost:8080/"
        },
        "id": "luIORKk2Fhg5",
        "outputId": "c036c558-a44e-478a-f248-61b466024ca0"
      },
      "execution_count": null,
      "outputs": [
        {
          "output_type": "execute_result",
          "data": {
            "text/plain": [
              "<__main__.Cuenta at 0x7f4263339960>"
            ]
          },
          "metadata": {},
          "execution_count": 24
        }
      ]
    },
    {
      "cell_type": "code",
      "source": [
        "cuenta_1 = cuenta"
      ],
      "metadata": {
        "id": "9NkklXFOGR9S"
      },
      "execution_count": null,
      "outputs": []
    },
    {
      "cell_type": "code",
      "source": [
        "cuenta_1"
      ],
      "metadata": {
        "colab": {
          "base_uri": "https://localhost:8080/"
        },
        "id": "Uvo81-ouGX7a",
        "outputId": "4a5da3a0-06af-4a5a-821c-5761ee532440"
      },
      "execution_count": null,
      "outputs": [
        {
          "output_type": "execute_result",
          "data": {
            "text/plain": [
              "<__main__.Cuenta at 0x7f4263339960>"
            ]
          },
          "metadata": {},
          "execution_count": 26
        }
      ]
    },
    {
      "cell_type": "code",
      "source": [
        "cuenta_1 = Cuenta()"
      ],
      "metadata": {
        "id": "A-CPFDcTGZli"
      },
      "execution_count": null,
      "outputs": []
    },
    {
      "cell_type": "code",
      "source": [
        "cuenta_1"
      ],
      "metadata": {
        "colab": {
          "base_uri": "https://localhost:8080/"
        },
        "id": "RelHpa1YGgNi",
        "outputId": "6baff950-e899-4f97-a267-348cac8c5b71"
      },
      "execution_count": null,
      "outputs": [
        {
          "output_type": "execute_result",
          "data": {
            "text/plain": [
              "<__main__.Cuenta at 0x7f426333a2f0>"
            ]
          },
          "metadata": {},
          "execution_count": 28
        }
      ]
    },
    {
      "cell_type": "code",
      "source": [
        "class Cuenta:\n",
        "  def __init__(self,numero, titular, saldo, agencia, limite):\n",
        "    print('Creando una cuenta bancaria...')\n",
        "    self.numero = numero\n",
        "    self.titular = titular\n",
        "    self.saldo = saldo\n",
        "    self.agencia = agencia\n",
        "    self.limite = limite"
      ],
      "metadata": {
        "id": "WVH5l3hxGhha"
      },
      "execution_count": null,
      "outputs": []
    },
    {
      "cell_type": "code",
      "source": [
        "cuenta_1 = Cuenta(123,'Alvaro',55.0,'001',1000.0)"
      ],
      "metadata": {
        "colab": {
          "base_uri": "https://localhost:8080/"
        },
        "id": "I1NXewDGIjaK",
        "outputId": "45751b94-3978-4189-e53a-f6ca38b948e3"
      },
      "execution_count": null,
      "outputs": [
        {
          "output_type": "stream",
          "name": "stdout",
          "text": [
            "Creando una cuenta bancaria...\n"
          ]
        }
      ]
    },
    {
      "cell_type": "code",
      "source": [
        "cuenta_1"
      ],
      "metadata": {
        "colab": {
          "base_uri": "https://localhost:8080/"
        },
        "id": "bET3tXxiI6ob",
        "outputId": "def680cd-39ef-4905-fe16-69916a8c7e7b"
      },
      "execution_count": null,
      "outputs": [
        {
          "output_type": "execute_result",
          "data": {
            "text/plain": [
              "<__main__.Cuenta at 0x7f4263339540>"
            ]
          },
          "metadata": {},
          "execution_count": 31
        }
      ]
    },
    {
      "cell_type": "code",
      "source": [
        "cuenta_1.numero"
      ],
      "metadata": {
        "colab": {
          "base_uri": "https://localhost:8080/"
        },
        "id": "KfK9TnJQI9tb",
        "outputId": "0af5c404-f0ab-4923-e86b-fe25abff6fa0"
      },
      "execution_count": null,
      "outputs": [
        {
          "output_type": "execute_result",
          "data": {
            "text/plain": [
              "123"
            ]
          },
          "metadata": {},
          "execution_count": 32
        }
      ]
    },
    {
      "cell_type": "code",
      "source": [
        "cuenta_1.titular"
      ],
      "metadata": {
        "colab": {
          "base_uri": "https://localhost:8080/",
          "height": 35
        },
        "id": "nV_HMFhUJEVS",
        "outputId": "d6e66e8f-3f82-4148-8c4b-fa4d39372603"
      },
      "execution_count": null,
      "outputs": [
        {
          "output_type": "execute_result",
          "data": {
            "text/plain": [
              "'Alvaro'"
            ],
            "application/vnd.google.colaboratory.intrinsic+json": {
              "type": "string"
            }
          },
          "metadata": {},
          "execution_count": 33
        }
      ]
    },
    {
      "cell_type": "code",
      "source": [
        "cuenta_2 = Cuenta(321,'Josse',100.0,'001',1000.0)"
      ],
      "metadata": {
        "colab": {
          "base_uri": "https://localhost:8080/"
        },
        "id": "xpIWjnU8JH9K",
        "outputId": "54d1b74c-e273-466d-a4b1-d03033cbf4b4"
      },
      "execution_count": null,
      "outputs": [
        {
          "output_type": "stream",
          "name": "stdout",
          "text": [
            "Creando una cuenta bancaria...\n"
          ]
        }
      ]
    },
    {
      "cell_type": "code",
      "source": [
        "cuenta_2.numero"
      ],
      "metadata": {
        "colab": {
          "base_uri": "https://localhost:8080/"
        },
        "id": "OjtHspwyJOoD",
        "outputId": "c686b4e2-05eb-40b8-c246-5cc8e08c4369"
      },
      "execution_count": null,
      "outputs": [
        {
          "output_type": "execute_result",
          "data": {
            "text/plain": [
              "321"
            ]
          },
          "metadata": {},
          "execution_count": 35
        }
      ]
    },
    {
      "cell_type": "code",
      "source": [
        "class Cuenta:\n",
        "  def __init__(self,numero, titular, saldo, agencia, limite):\n",
        "    print('Creando una cuenta bancaria...')\n",
        "    self.numero = numero\n",
        "    self.titular = titular\n",
        "    self.saldo = saldo\n",
        "    self.agencia = agencia\n",
        "    self.limite = limite\n",
        "\n",
        "  def retira(self,valor):\n",
        "   self.saldo -= valor\n",
        "\n",
        "  def deposita(self,valor):\n",
        "    self.saldo += valor\n",
        "\n",
        "  def extracto(self):\n",
        "    print(f'El saldo de la cuenta de {self.titular} es: {self.saldo}')"
      ],
      "metadata": {
        "id": "v-pUtTZ3JSyL"
      },
      "execution_count": null,
      "outputs": []
    },
    {
      "cell_type": "code",
      "source": [
        "cuenta_1 = Cuenta(123,'Alvaro',55.0,'001',1000.0)\n",
        "cuenta_2 = Cuenta(321,'Jose',100.0,'001',1000.0)"
      ],
      "metadata": {
        "colab": {
          "base_uri": "https://localhost:8080/"
        },
        "id": "n9w6CaVRLZWb",
        "outputId": "a93b75e2-0be8-45d4-abfb-db8d3b098521"
      },
      "execution_count": null,
      "outputs": [
        {
          "output_type": "stream",
          "name": "stdout",
          "text": [
            "Creando una cuenta bancaria...\n",
            "Creando una cuenta bancaria...\n"
          ]
        }
      ]
    },
    {
      "cell_type": "code",
      "source": [
        "cuenta_1.deposita(100.0)"
      ],
      "metadata": {
        "id": "YITZ4VpCLmTr"
      },
      "execution_count": null,
      "outputs": []
    },
    {
      "cell_type": "code",
      "source": [
        "cuenta_1.extracto()"
      ],
      "metadata": {
        "colab": {
          "base_uri": "https://localhost:8080/"
        },
        "id": "pVsyCojILuvT",
        "outputId": "f7e1b7c8-77ca-402b-9a89-ef0eefcba4f9"
      },
      "execution_count": null,
      "outputs": [
        {
          "output_type": "stream",
          "name": "stdout",
          "text": [
            "El saldo de la cuenta de Alvaro es: 155.0\n"
          ]
        }
      ]
    },
    {
      "cell_type": "code",
      "source": [
        "cuenta_1.retira(95)"
      ],
      "metadata": {
        "id": "EVVTeOUZL1d7"
      },
      "execution_count": null,
      "outputs": []
    },
    {
      "cell_type": "code",
      "source": [
        "cuenta_1.extracto()"
      ],
      "metadata": {
        "colab": {
          "base_uri": "https://localhost:8080/"
        },
        "id": "a3CWzM5rL7h6",
        "outputId": "e5b3096a-e7aa-418a-8eb7-b35d1955a0bf"
      },
      "execution_count": null,
      "outputs": [
        {
          "output_type": "stream",
          "name": "stdout",
          "text": [
            "El saldo de la cuenta de Alvaro es: 60.0\n"
          ]
        }
      ]
    },
    {
      "cell_type": "code",
      "source": [
        "cuenta_3 = Cuenta(456,'Marcos',500.0,'001',2000.0)"
      ],
      "metadata": {
        "colab": {
          "base_uri": "https://localhost:8080/"
        },
        "id": "9UyfrertL87T",
        "outputId": "62a41246-93e5-4bc0-ea3e-f81ee4105f51"
      },
      "execution_count": null,
      "outputs": [
        {
          "output_type": "stream",
          "name": "stdout",
          "text": [
            "Creando una cuenta bancaria...\n"
          ]
        }
      ]
    },
    {
      "cell_type": "code",
      "source": [
        "cuenta_3.extracto()"
      ],
      "metadata": {
        "colab": {
          "base_uri": "https://localhost:8080/"
        },
        "id": "Uqiti9jjMHwy",
        "outputId": "e8f985c0-59f3-4c1c-af59-c3203109acbf"
      },
      "execution_count": null,
      "outputs": [
        {
          "output_type": "stream",
          "name": "stdout",
          "text": [
            "El saldo de la cuenta de Marcos es: 500.0\n"
          ]
        }
      ]
    },
    {
      "cell_type": "code",
      "source": [
        "cuenta_1.saldo"
      ],
      "metadata": {
        "colab": {
          "base_uri": "https://localhost:8080/"
        },
        "id": "xYMbK6MLMLRC",
        "outputId": "eba5f9ce-f584-49bb-acf8-bf73fbf73f88"
      },
      "execution_count": null,
      "outputs": [
        {
          "output_type": "execute_result",
          "data": {
            "text/plain": [
              "60.0"
            ]
          },
          "metadata": {},
          "execution_count": 44
        }
      ]
    },
    {
      "cell_type": "code",
      "source": [
        "cuenta_1.saldo = 5000"
      ],
      "metadata": {
        "id": "TRaybb9wOoHL"
      },
      "execution_count": null,
      "outputs": []
    },
    {
      "cell_type": "code",
      "source": [
        "cuenta_1.extracto()"
      ],
      "metadata": {
        "colab": {
          "base_uri": "https://localhost:8080/"
        },
        "id": "YeXdUD74OrPL",
        "outputId": "3a31f7c7-4271-4d15-d0f6-30359b649929"
      },
      "execution_count": null,
      "outputs": [
        {
          "output_type": "stream",
          "name": "stdout",
          "text": [
            "El saldo de la cuenta de Alvaro es: 5000\n"
          ]
        }
      ]
    },
    {
      "cell_type": "code",
      "source": [
        "class Cuenta:\n",
        "  def __init__(self,numero, titular, saldo, agencia, limite):\n",
        "    print('Creando una cuenta bancaria...')\n",
        "    self.__numero = numero\n",
        "    self.__titular = titular\n",
        "    self.__saldo = saldo\n",
        "    self.__agencia = agencia\n",
        "    self.__limite = limite\n",
        "\n",
        "  def retira(self,valor):\n",
        "   self.__saldo -= valor\n",
        "\n",
        "  def deposita(self,valor):\n",
        "    self.__saldo += valor\n",
        "\n",
        "  def extracto(self):\n",
        "    print(f'El saldo de la cuenta de {self.__titular} es: {self.__saldo}')"
      ],
      "metadata": {
        "id": "9l6WdteiOuWq"
      },
      "execution_count": null,
      "outputs": []
    },
    {
      "cell_type": "code",
      "source": [
        "cuenta_1 = Cuenta(123,'Alvaro',55.0,'001',1000.0)"
      ],
      "metadata": {
        "colab": {
          "base_uri": "https://localhost:8080/"
        },
        "id": "vbkx2QMZPVqa",
        "outputId": "be1439a0-862d-4360-837c-3c6e5d2aedf3"
      },
      "execution_count": null,
      "outputs": [
        {
          "output_type": "stream",
          "name": "stdout",
          "text": [
            "Creando una cuenta bancaria...\n"
          ]
        }
      ]
    },
    {
      "cell_type": "code",
      "source": [
        "cuenta_1._Cuenta__saldo"
      ],
      "metadata": {
        "colab": {
          "base_uri": "https://localhost:8080/"
        },
        "id": "P3DM85jNPj70",
        "outputId": "696f9b7e-b2a2-4e32-b62e-17a39fc84b40"
      },
      "execution_count": null,
      "outputs": [
        {
          "output_type": "execute_result",
          "data": {
            "text/plain": [
              "55.0"
            ]
          },
          "metadata": {},
          "execution_count": 49
        }
      ]
    },
    {
      "cell_type": "code",
      "source": [
        "cuenta_1._Cuenta__saldo = 5000"
      ],
      "metadata": {
        "id": "XC-gy0n_PuiD"
      },
      "execution_count": null,
      "outputs": []
    },
    {
      "cell_type": "code",
      "source": [
        "cuenta_1.extracto()"
      ],
      "metadata": {
        "colab": {
          "base_uri": "https://localhost:8080/"
        },
        "id": "Pfh-KzdEPxvK",
        "outputId": "c136f2a4-a4f0-4f28-b2d6-05b9d459c678"
      },
      "execution_count": null,
      "outputs": [
        {
          "output_type": "stream",
          "name": "stdout",
          "text": [
            "El saldo de la cuenta de Alvaro es: 5000\n"
          ]
        }
      ]
    },
    {
      "cell_type": "code",
      "source": [
        "valor = 100\n",
        "cuenta_1.extracto()\n",
        "cuenta_1.retira(valor)\n",
        "cuenta_1.extracto()\n",
        "cuenta_2.extracto()\n",
        "cuenta_2.deposita(valor)\n",
        "cuenta_2.extracto()"
      ],
      "metadata": {
        "colab": {
          "base_uri": "https://localhost:8080/"
        },
        "id": "YsfYEX5yP0Pa",
        "outputId": "fded9afd-a0a7-4c21-dc25-9d66d80aa31a"
      },
      "execution_count": null,
      "outputs": [
        {
          "output_type": "stream",
          "name": "stdout",
          "text": [
            "El saldo de la cuenta de Alvaro es: 5000\n",
            "El saldo de la cuenta de Alvaro es: 4900\n",
            "El saldo de la cuenta de Jose es: 100.0\n",
            "El saldo de la cuenta de Jose es: 200.0\n"
          ]
        }
      ]
    },
    {
      "cell_type": "code",
      "source": [
        "class Cuenta:\n",
        "  def __init__(self,numero, titular, saldo, agencia, limite):\n",
        "    print('Creando una cuenta bancaria...')\n",
        "    self.__numero = numero\n",
        "    self.__titular = titular\n",
        "    self.__saldo = saldo\n",
        "    self.__agencia = agencia\n",
        "    self.__limite = limite\n",
        "\n",
        "  def retira(self,valor):\n",
        "   self.__saldo -= valor\n",
        "\n",
        "  def deposita(self,valor):\n",
        "    self.__saldo += valor\n",
        "\n",
        "  def extracto(self):\n",
        "    print(f'El saldo de la cuenta de {self.__titular} es: {self.__saldo}')\n",
        "\n",
        "  def transfiere(self,valor,origen,destino):\n",
        "    origen.retira(valor)\n",
        "    destino.deposita(valor)"
      ],
      "metadata": {
        "id": "ZOdMA9NZSAL1"
      },
      "execution_count": null,
      "outputs": []
    },
    {
      "cell_type": "code",
      "source": [
        "cuenta_1 = Cuenta(123,'Alvaro',55.0,'001',1000.0)\n",
        "cuenta_2 = Cuenta(321,'Jose',100.0,'001',1000.0)"
      ],
      "metadata": {
        "colab": {
          "base_uri": "https://localhost:8080/"
        },
        "id": "ruPzUSEdSeab",
        "outputId": "bdee4f94-4470-4dc8-e6aa-a06980927072"
      },
      "execution_count": null,
      "outputs": [
        {
          "output_type": "stream",
          "name": "stdout",
          "text": [
            "Creando una cuenta bancaria...\n",
            "Creando una cuenta bancaria...\n"
          ]
        }
      ]
    },
    {
      "cell_type": "code",
      "source": [
        "cuenta_1.transfiere(100.0,cuenta_1,cuenta_2)"
      ],
      "metadata": {
        "id": "cpqiVbfPSjNc"
      },
      "execution_count": null,
      "outputs": []
    },
    {
      "cell_type": "code",
      "source": [
        "cuenta_1.extracto()"
      ],
      "metadata": {
        "colab": {
          "base_uri": "https://localhost:8080/"
        },
        "id": "m1MwVJ0qSsKU",
        "outputId": "643d9da5-eaf9-4a1c-ba65-13c53fb642d0"
      },
      "execution_count": null,
      "outputs": [
        {
          "output_type": "stream",
          "name": "stdout",
          "text": [
            "El saldo de la cuenta de Alvaro es: -45.0\n"
          ]
        }
      ]
    },
    {
      "cell_type": "code",
      "source": [
        "cuenta_2.extracto()"
      ],
      "metadata": {
        "colab": {
          "base_uri": "https://localhost:8080/"
        },
        "id": "1qrNInmFSxE7",
        "outputId": "44bd4b3c-b892-454e-dd7d-ddd8ee80ba96"
      },
      "execution_count": null,
      "outputs": [
        {
          "output_type": "stream",
          "name": "stdout",
          "text": [
            "El saldo de la cuenta de Jose es: 200.0\n"
          ]
        }
      ]
    },
    {
      "cell_type": "code",
      "source": [
        "class Cuenta:\n",
        "  def __init__(self,numero, titular, saldo, agencia, limite):\n",
        "    print('Creando una cuenta bancaria...')\n",
        "    self.__numero = numero\n",
        "    self.__titular = titular\n",
        "    self.__saldo = saldo\n",
        "    self.__agencia = agencia\n",
        "    self.__limite = limite\n",
        "\n",
        "  def retira(self,valor):\n",
        "   self.__saldo -= valor\n",
        "\n",
        "  def deposita(self,valor):\n",
        "    self.__saldo += valor\n",
        "\n",
        "  def extracto(self):\n",
        "    print(f'El saldo de la cuenta de {self.__titular} es: {self.__saldo}')\n",
        "\n",
        "  def transfiere(self,valor,destino):\n",
        "    self.retira(valor)\n",
        "    destino.deposita(valor)"
      ],
      "metadata": {
        "id": "KMRV67QLSz_j"
      },
      "execution_count": null,
      "outputs": []
    },
    {
      "cell_type": "code",
      "source": [
        "cuenta_1 = Cuenta(123,'Alvaro',55.0,'001',1000.0)\n",
        "cuenta_2 = Cuenta(321,'Jose',100.0,'001',1000.0)"
      ],
      "metadata": {
        "colab": {
          "base_uri": "https://localhost:8080/"
        },
        "id": "IG_QmaihTEY7",
        "outputId": "f3f33423-bf95-44f7-f491-39a7ec577bae"
      },
      "execution_count": null,
      "outputs": [
        {
          "output_type": "stream",
          "name": "stdout",
          "text": [
            "Creando una cuenta bancaria...\n",
            "Creando una cuenta bancaria...\n"
          ]
        }
      ]
    },
    {
      "cell_type": "code",
      "source": [
        "cuenta_1.transfiere(100.0,cuenta_2)"
      ],
      "metadata": {
        "id": "12uPRN6mTG0L"
      },
      "execution_count": null,
      "outputs": []
    },
    {
      "cell_type": "code",
      "source": [
        "cuenta_2.extracto()"
      ],
      "metadata": {
        "colab": {
          "base_uri": "https://localhost:8080/"
        },
        "id": "oVp9YbROTMGk",
        "outputId": "bc655134-a6b9-4478-a654-67858f626745"
      },
      "execution_count": null,
      "outputs": [
        {
          "output_type": "stream",
          "name": "stdout",
          "text": [
            "El saldo de la cuenta de Jose es: 200.0\n"
          ]
        }
      ]
    },
    {
      "cell_type": "code",
      "source": [
        "class Cuenta:\n",
        "  def __init__(self,numero, titular, saldo, agencia, limite):\n",
        "    print('Creando una cuenta bancaria...')\n",
        "    self.__numero = numero\n",
        "    self.__titular = titular\n",
        "    self.__saldo = saldo\n",
        "    self.__agencia = agencia\n",
        "    self.__limite = limite\n",
        "\n",
        "  def retira(self,valor):\n",
        "   self.__saldo -= valor\n",
        "\n",
        "  def deposita(self,valor):\n",
        "    self.__saldo += valor\n",
        "\n",
        "  def extracto(self):\n",
        "    print(f'El saldo de la cuenta de {self.__titular} es: {self.__saldo}')\n",
        "\n",
        "  def transfiere(self,valor,destino):\n",
        "    self.retira(valor)\n",
        "    destino.deposita(valor)\n",
        "\n",
        "  #Getters\n",
        "  def get_saldo(self):\n",
        "    return self.__saldo\n",
        "\n",
        "  def get_titular(self):\n",
        "    return self.__titular\n",
        "\n",
        "  #Setters\n",
        "  def set_limite(self,limite):\n",
        "    self.__limite = limite\n",
        "    return self.__limite"
      ],
      "metadata": {
        "id": "fAT1HuJDXD5F"
      },
      "execution_count": null,
      "outputs": []
    },
    {
      "cell_type": "code",
      "source": [
        "cuenta_1 = Cuenta(123,'Alvaro',55.0,'001',1000.0)\n",
        "cuenta_2 = Cuenta(321,'Jose',100.0,'001',1000.0)"
      ],
      "metadata": {
        "colab": {
          "base_uri": "https://localhost:8080/"
        },
        "id": "v_jHcl8VX0DK",
        "outputId": "a306aa42-4e0a-4933-b8f7-b569809738bc"
      },
      "execution_count": null,
      "outputs": [
        {
          "output_type": "stream",
          "name": "stdout",
          "text": [
            "Creando una cuenta bancaria...\n",
            "Creando una cuenta bancaria...\n"
          ]
        }
      ]
    },
    {
      "cell_type": "code",
      "source": [
        "cuenta_1.set_limite(10000)"
      ],
      "metadata": {
        "colab": {
          "base_uri": "https://localhost:8080/"
        },
        "id": "3qfZF6i_YA0E",
        "outputId": "a9519cfd-f3b1-450e-b0aa-f164045d9ae4"
      },
      "execution_count": null,
      "outputs": [
        {
          "output_type": "execute_result",
          "data": {
            "text/plain": [
              "10000"
            ]
          },
          "metadata": {},
          "execution_count": 64
        }
      ]
    },
    {
      "cell_type": "code",
      "source": [
        "cuenta_1.get_titular()"
      ],
      "metadata": {
        "colab": {
          "base_uri": "https://localhost:8080/",
          "height": 35
        },
        "id": "sT7kM_AiYHIE",
        "outputId": "8f718358-6f4d-4ea2-de00-c3109565d937"
      },
      "execution_count": null,
      "outputs": [
        {
          "output_type": "execute_result",
          "data": {
            "text/plain": [
              "'Alvaro'"
            ],
            "application/vnd.google.colaboratory.intrinsic+json": {
              "type": "string"
            }
          },
          "metadata": {},
          "execution_count": 65
        }
      ]
    },
    {
      "cell_type": "code",
      "source": [
        "class Cliente:\n",
        "  def __init__(self,nombre):\n",
        "    self.nombre = nombre"
      ],
      "metadata": {
        "id": "6Bbvcr8AYLFk"
      },
      "execution_count": null,
      "outputs": []
    },
    {
      "cell_type": "code",
      "source": [
        "cliente= Cliente('Alvaro')"
      ],
      "metadata": {
        "id": "U14bebM5a488"
      },
      "execution_count": null,
      "outputs": []
    },
    {
      "cell_type": "code",
      "source": [
        "cliente.nombre"
      ],
      "metadata": {
        "colab": {
          "base_uri": "https://localhost:8080/",
          "height": 35
        },
        "id": "tFVPUlDua9pd",
        "outputId": "36520380-f0cc-4f05-b4d1-a84b36c1eb23"
      },
      "execution_count": null,
      "outputs": [
        {
          "output_type": "execute_result",
          "data": {
            "text/plain": [
              "'Alvaro'"
            ],
            "application/vnd.google.colaboratory.intrinsic+json": {
              "type": "string"
            }
          },
          "metadata": {},
          "execution_count": 68
        }
      ]
    },
    {
      "cell_type": "code",
      "source": [
        "cliente.nombre = 'pedro'"
      ],
      "metadata": {
        "id": "9E6FceVga_xF"
      },
      "execution_count": null,
      "outputs": []
    },
    {
      "cell_type": "code",
      "source": [
        "cliente.nombre"
      ],
      "metadata": {
        "colab": {
          "base_uri": "https://localhost:8080/",
          "height": 35
        },
        "id": "TagYW13IbECE",
        "outputId": "e361c38a-c89f-4512-b503-d8c46db1bcb1"
      },
      "execution_count": null,
      "outputs": [
        {
          "output_type": "execute_result",
          "data": {
            "text/plain": [
              "'pedro'"
            ],
            "application/vnd.google.colaboratory.intrinsic+json": {
              "type": "string"
            }
          },
          "metadata": {},
          "execution_count": 70
        }
      ]
    },
    {
      "cell_type": "code",
      "source": [
        "class Cliente:\n",
        "  def __init__(self,nombre):\n",
        "    self.__nombre = nombre\n",
        "\n",
        "  def get_nombre(self):\n",
        "    return self.__nombre.title()"
      ],
      "metadata": {
        "id": "vhyhQn8lbFo8"
      },
      "execution_count": null,
      "outputs": []
    },
    {
      "cell_type": "code",
      "source": [
        "cliente = Cliente('pedro')"
      ],
      "metadata": {
        "id": "DpzOakEhbYWD"
      },
      "execution_count": null,
      "outputs": []
    },
    {
      "cell_type": "code",
      "source": [
        "cliente.get_nombre()"
      ],
      "metadata": {
        "colab": {
          "base_uri": "https://localhost:8080/",
          "height": 35
        },
        "id": "YFrOcaCabeVs",
        "outputId": "c085d3a0-8809-4d10-caad-1374ceb5ac33"
      },
      "execution_count": null,
      "outputs": [
        {
          "output_type": "execute_result",
          "data": {
            "text/plain": [
              "'Pedro'"
            ],
            "application/vnd.google.colaboratory.intrinsic+json": {
              "type": "string"
            }
          },
          "metadata": {},
          "execution_count": 73
        }
      ]
    },
    {
      "cell_type": "code",
      "source": [
        "class Cliente:\n",
        "  def __init__(self,nombre,limite):\n",
        "    self.__nombre = nombre\n",
        "    self.__limite = limite\n",
        "\n",
        "  @property\n",
        "  def nombre(self):\n",
        "    return self.__nombre.title()\n",
        "\n",
        "  @nombre.setter\n",
        "  def nombre(self,nombre):\n",
        "    self.__nombre = nombre\n",
        "\n",
        "  @property\n",
        "  def limite(self):\n",
        "    return self.__limite\n",
        "\n",
        "  @limite.setter\n",
        "  def limite(self,limite):\n",
        "    self.__limite = limite"
      ],
      "metadata": {
        "id": "B5E5GNDpbhVN"
      },
      "execution_count": null,
      "outputs": []
    },
    {
      "cell_type": "code",
      "source": [
        "cliente = Cliente('pedro',10000)"
      ],
      "metadata": {
        "id": "wxhdGOKVb6yz"
      },
      "execution_count": null,
      "outputs": []
    },
    {
      "cell_type": "code",
      "source": [
        "cliente.nombre"
      ],
      "metadata": {
        "colab": {
          "base_uri": "https://localhost:8080/",
          "height": 35
        },
        "id": "jyHBcPEEb9nu",
        "outputId": "002c56ef-a1d0-4c75-837a-a7658bbc3fbe"
      },
      "execution_count": null,
      "outputs": [
        {
          "output_type": "execute_result",
          "data": {
            "text/plain": [
              "'Pedro'"
            ],
            "application/vnd.google.colaboratory.intrinsic+json": {
              "type": "string"
            }
          },
          "metadata": {},
          "execution_count": 76
        }
      ]
    },
    {
      "cell_type": "code",
      "source": [
        "cliente.nombre = 'alvaro'"
      ],
      "metadata": {
        "id": "i6KUEYfscy8l"
      },
      "execution_count": null,
      "outputs": []
    },
    {
      "cell_type": "code",
      "source": [
        "cliente.nombre"
      ],
      "metadata": {
        "colab": {
          "base_uri": "https://localhost:8080/",
          "height": 35
        },
        "id": "8v1WF7RKc_fU",
        "outputId": "da7e4fc4-03ea-4305-9288-b3d363a410c0"
      },
      "execution_count": null,
      "outputs": [
        {
          "output_type": "execute_result",
          "data": {
            "text/plain": [
              "'Alvaro'"
            ],
            "application/vnd.google.colaboratory.intrinsic+json": {
              "type": "string"
            }
          },
          "metadata": {},
          "execution_count": 78
        }
      ]
    },
    {
      "cell_type": "code",
      "source": [
        "cliente.limite = 1000"
      ],
      "metadata": {
        "id": "5IT6TLArdAq1"
      },
      "execution_count": null,
      "outputs": []
    },
    {
      "cell_type": "code",
      "source": [
        "cliente.limite"
      ],
      "metadata": {
        "colab": {
          "base_uri": "https://localhost:8080/"
        },
        "id": "aTeqNBemdeWs",
        "outputId": "7ad6fcd6-4cba-4679-d5c6-86d442273123"
      },
      "execution_count": null,
      "outputs": [
        {
          "output_type": "execute_result",
          "data": {
            "text/plain": [
              "1000"
            ]
          },
          "metadata": {},
          "execution_count": 80
        }
      ]
    },
    {
      "cell_type": "code",
      "source": [
        "class Cuenta:\n",
        "  def __init__(self,numero, titular, saldo, agencia, limite):\n",
        "    print('Creando una cuenta bancaria...')\n",
        "    self.__numero = numero\n",
        "    self.__titular = titular\n",
        "    self.__saldo = saldo\n",
        "    self.__agencia = agencia\n",
        "    self.__limite = limite\n",
        "    self.__codigo_banco = '1001'\n",
        "\n",
        "  def __puede_retirar(self, valor_a_retirar):\n",
        "    valor_disponible = self.__saldo + self.__limite\n",
        "    return valor_a_retirar <= valor_disponible\n",
        "\n",
        "  def retira(self,valor):\n",
        "    if (self.__puede_retirar(valor)):\n",
        "      self.__saldo -= valor\n",
        "    else:\n",
        "      print(f'El valor {valor} excedió el límite permitido.')\n",
        "\n",
        "  def deposita(self,valor):\n",
        "    self.__saldo += valor\n",
        "\n",
        "  def extracto(self):\n",
        "    print(f'El saldo de la cuenta de {self.__titular} es: {self.__saldo}')\n",
        "\n",
        "  def transfiere(self,valor,destino):\n",
        "    self.retira(valor)\n",
        "    destino.deposita(valor)\n",
        "\n",
        "  @property\n",
        "  def saldo(self):\n",
        "    return self.__saldo\n",
        "\n",
        "  @property\n",
        "  def titular(self):\n",
        "    return self.__titular\n",
        "\n",
        "  @property\n",
        "  def codigo_banco(self):\n",
        "    return self.__codigo_banco"
      ],
      "metadata": {
        "id": "Y7i6Ul_ydie1"
      },
      "execution_count": null,
      "outputs": []
    },
    {
      "cell_type": "code",
      "source": [
        "cuenta_1 = Cuenta(123,'Alvaro',55.0,'001',1000.0)\n",
        "cuenta_2 = Cuenta(321,'Jose',100.0,'001',1000.0)"
      ],
      "metadata": {
        "colab": {
          "base_uri": "https://localhost:8080/"
        },
        "id": "Z7zrwFUFi3N7",
        "outputId": "1ead9f1b-02a8-4314-91f1-f4cbe6044c33"
      },
      "execution_count": null,
      "outputs": [
        {
          "output_type": "stream",
          "name": "stdout",
          "text": [
            "Creando una cuenta bancaria...\n",
            "Creando una cuenta bancaria...\n"
          ]
        }
      ]
    },
    {
      "cell_type": "code",
      "source": [
        "cuenta_1.retira(1000)"
      ],
      "metadata": {
        "colab": {
          "base_uri": "https://localhost:8080/"
        },
        "id": "6ZyqJxNFjfS2",
        "outputId": "f577f189-6408-4127-8afa-01e142cda6c1"
      },
      "execution_count": null,
      "outputs": [
        {
          "output_type": "stream",
          "name": "stdout",
          "text": [
            "El valor 1000 excedió el límite permitido.\n"
          ]
        }
      ]
    },
    {
      "cell_type": "code",
      "source": [
        "cuenta_1.extracto()"
      ],
      "metadata": {
        "colab": {
          "base_uri": "https://localhost:8080/"
        },
        "id": "cFr4eQ1Ljlfd",
        "outputId": "64dce899-1d00-4a12-bc39-35eae27afec8"
      },
      "execution_count": null,
      "outputs": [
        {
          "output_type": "stream",
          "name": "stdout",
          "text": [
            "El saldo de la cuenta de Alvaro es: -945.0\n"
          ]
        }
      ]
    },
    {
      "cell_type": "code",
      "source": [
        "cuenta_1.puede_retirar(200)"
      ],
      "metadata": {
        "colab": {
          "base_uri": "https://localhost:8080/"
        },
        "id": "WIgRWYthjnQM",
        "outputId": "2e221604-1138-4bce-9b6d-7a051c276b24"
      },
      "execution_count": null,
      "outputs": [
        {
          "output_type": "execute_result",
          "data": {
            "text/plain": [
              "False"
            ]
          },
          "metadata": {},
          "execution_count": 94
        }
      ]
    },
    {
      "cell_type": "code",
      "source": [
        "cuenta_1.codigo_banco"
      ],
      "metadata": {
        "colab": {
          "base_uri": "https://localhost:8080/",
          "height": 35
        },
        "id": "tKE_KY6zlZVE",
        "outputId": "2b4162c7-6f91-46ad-bf58-ce640048e291"
      },
      "execution_count": null,
      "outputs": [
        {
          "output_type": "execute_result",
          "data": {
            "text/plain": [
              "'1001'"
            ],
            "application/vnd.google.colaboratory.intrinsic+json": {
              "type": "string"
            }
          },
          "metadata": {},
          "execution_count": 101
        }
      ]
    },
    {
      "cell_type": "code",
      "source": [
        "Cuenta()"
      ],
      "metadata": {
        "colab": {
          "base_uri": "https://localhost:8080/",
          "height": 166
        },
        "id": "6yiWG_Q7oZ9w",
        "outputId": "2a468afd-b5cf-4a4f-dd73-8466a8b7b50b"
      },
      "execution_count": null,
      "outputs": [
        {
          "output_type": "error",
          "ename": "TypeError",
          "evalue": "ignored",
          "traceback": [
            "\u001b[0;31m---------------------------------------------------------------------------\u001b[0m",
            "\u001b[0;31mTypeError\u001b[0m                                 Traceback (most recent call last)",
            "\u001b[0;32m<ipython-input-82-d14267d9252a>\u001b[0m in \u001b[0;36m<cell line: 1>\u001b[0;34m()\u001b[0m\n\u001b[0;32m----> 1\u001b[0;31m \u001b[0mCuenta\u001b[0m\u001b[0;34m(\u001b[0m\u001b[0;34m)\u001b[0m\u001b[0;34m\u001b[0m\u001b[0;34m\u001b[0m\u001b[0m\n\u001b[0m",
            "\u001b[0;31mTypeError\u001b[0m: Cuenta.__init__() missing 5 required positional arguments: 'numero', 'titular', 'saldo', 'agencia', and 'limite'"
          ]
        }
      ]
    },
    {
      "cell_type": "code",
      "source": [
        "class Cuenta:\n",
        "  def __init__(self,numero, titular, saldo, agencia, limite):\n",
        "    print('Creando una cuenta bancaria...')\n",
        "    self.__numero = numero\n",
        "    self.__titular = titular\n",
        "    self.__saldo = saldo\n",
        "    self.__agencia = agencia\n",
        "    self.__limite = limite\n",
        "\n",
        "  def __puede_retirar(self, valor_a_retirar):\n",
        "    valor_disponible = self.__saldo + self.__limite\n",
        "    return valor_a_retirar <= valor_disponible\n",
        "\n",
        "  def retira(self,valor):\n",
        "    if (self.__puede_retirar(valor)):\n",
        "      self.__saldo -= valor\n",
        "    else:\n",
        "      print(f'El valor {valor} excedió el límite permitido.')\n",
        "\n",
        "  def deposita(self,valor):\n",
        "    self.__saldo += valor\n",
        "\n",
        "  def extracto(self):\n",
        "    print(f'El saldo de la cuenta de {self.__titular} es: {self.__saldo}')\n",
        "\n",
        "  def transfiere(self,valor,destino):\n",
        "    self.retira(valor)\n",
        "    destino.deposita(valor)\n",
        "\n",
        "  @property\n",
        "  def saldo(self):\n",
        "    return self.__saldo\n",
        "\n",
        "  @property\n",
        "  def titular(self):\n",
        "    return self.__titular\n",
        "\n",
        "  @staticmethod\n",
        "  def codigo_banco():\n",
        "    return '1001'\n",
        "\n",
        "  @staticmethod\n",
        "  def codigos_bancos():\n",
        "    return {'BR':'1001','Santander':'1002','Itau':'1003'}"
      ],
      "metadata": {
        "id": "L6ixQH92osw1"
      },
      "execution_count": null,
      "outputs": []
    },
    {
      "cell_type": "code",
      "source": [
        "Cuenta.codigo_banco()"
      ],
      "metadata": {
        "colab": {
          "base_uri": "https://localhost:8080/",
          "height": 35
        },
        "id": "IEpuVzXppd8G",
        "outputId": "4118f554-7733-4057-f244-37edfe5ac0bb"
      },
      "execution_count": null,
      "outputs": [
        {
          "output_type": "execute_result",
          "data": {
            "text/plain": [
              "'1001'"
            ],
            "application/vnd.google.colaboratory.intrinsic+json": {
              "type": "string"
            }
          },
          "metadata": {},
          "execution_count": 95
        }
      ]
    },
    {
      "cell_type": "code",
      "source": [
        "codigos = Cuenta.codigos_bancos()"
      ],
      "metadata": {
        "id": "wz2E6q5lp-eW"
      },
      "execution_count": null,
      "outputs": []
    },
    {
      "cell_type": "code",
      "source": [
        "codigos['Santander']"
      ],
      "metadata": {
        "id": "NR87imPZqVVt",
        "outputId": "95b6d356-6555-4349-d7a5-a88e0ff6c31c",
        "colab": {
          "base_uri": "https://localhost:8080/",
          "height": 35
        }
      },
      "execution_count": null,
      "outputs": [
        {
          "output_type": "execute_result",
          "data": {
            "text/plain": [
              "'1002'"
            ],
            "application/vnd.google.colaboratory.intrinsic+json": {
              "type": "string"
            }
          },
          "metadata": {},
          "execution_count": 97
        }
      ]
    }
  ]
}