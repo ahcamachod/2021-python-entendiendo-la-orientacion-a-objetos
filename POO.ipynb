{
  "nbformat": 4,
  "nbformat_minor": 0,
  "metadata": {
    "colab": {
      "provenance": [],
      "authorship_tag": "ABX9TyOcCb1Oxth2mk5vHuA2xIjP",
      "include_colab_link": true
    },
    "kernelspec": {
      "name": "python3",
      "display_name": "Python 3"
    },
    "language_info": {
      "name": "python"
    }
  },
  "cells": [
    {
      "cell_type": "markdown",
      "metadata": {
        "id": "view-in-github",
        "colab_type": "text"
      },
      "source": [
        "<a href=\"https://colab.research.google.com/github/ahcamachod/2021-python-entendiendo-la-orientacion-a-objetos/blob/aula-2/POO.ipynb\" target=\"_parent\"><img src=\"https://colab.research.google.com/assets/colab-badge.svg\" alt=\"Open In Colab\"/></a>"
      ]
    },
    {
      "cell_type": "markdown",
      "source": [
        "# La programación orientada a objetos"
      ],
      "metadata": {
        "id": "RgzuglSn3gF_"
      }
    },
    {
      "cell_type": "code",
      "execution_count": null,
      "metadata": {
        "id": "gRiUeRii3V43"
      },
      "outputs": [],
      "source": [
        "# numero, titular, saldo, agencia, limite\n",
        "\n",
        "numero = 123\n",
        "titular = 'Alvaro'\n",
        "saldo = 55.0\n",
        "limite = 1000.0"
      ]
    },
    {
      "cell_type": "code",
      "source": [
        "print(numero) # Puedes imprimir lo que hay en cada variable"
      ],
      "metadata": {
        "colab": {
          "base_uri": "https://localhost:8080/"
        },
        "id": "kMI58TtJ3-Fn",
        "outputId": "e383babe-d6a6-4597-8fad-0d5246ce46e7"
      },
      "execution_count": null,
      "outputs": [
        {
          "output_type": "stream",
          "name": "stdout",
          "text": [
            "123\n"
          ]
        }
      ]
    },
    {
      "cell_type": "code",
      "source": [
        "numero_1 = 321\n",
        "titular_1 = 'Jose'\n",
        "saldo_1 = 100.0\n",
        "limite_1 = 1000.0"
      ],
      "metadata": {
        "id": "3MF8_ivL3_sB"
      },
      "execution_count": null,
      "outputs": []
    },
    {
      "cell_type": "code",
      "source": [
        "print(titular_1)"
      ],
      "metadata": {
        "colab": {
          "base_uri": "https://localhost:8080/"
        },
        "id": "QXiPvFYK4URp",
        "outputId": "e2655854-ddee-4ef1-ee29-45f72fd34377"
      },
      "execution_count": null,
      "outputs": [
        {
          "output_type": "stream",
          "name": "stdout",
          "text": [
            "Jose\n"
          ]
        }
      ]
    },
    {
      "cell_type": "code",
      "source": [
        "cuenta = {'numero':123,\n",
        "          'titular':'Alvaro',\n",
        "          'saldo': 55.0,\n",
        "          'limite': 1000.0}"
      ],
      "metadata": {
        "id": "Mh7xnFyp4ZSQ"
      },
      "execution_count": null,
      "outputs": []
    },
    {
      "cell_type": "code",
      "source": [
        "cuenta['titular']"
      ],
      "metadata": {
        "colab": {
          "base_uri": "https://localhost:8080/",
          "height": 35
        },
        "id": "YTXdx3zF44lC",
        "outputId": "beca0c5e-f0c4-4278-a0ee-8f93ec8056a7"
      },
      "execution_count": null,
      "outputs": [
        {
          "output_type": "execute_result",
          "data": {
            "text/plain": [
              "'Alvaro'"
            ],
            "application/vnd.google.colaboratory.intrinsic+json": {
              "type": "string"
            }
          },
          "metadata": {},
          "execution_count": 6
        }
      ]
    },
    {
      "cell_type": "code",
      "source": [
        "cuenta_1 = {'numero':321,\n",
        "            'titular':'Jose',\n",
        "            'saldo': 100.0,\n",
        "            'limite': 1000.0}"
      ],
      "metadata": {
        "id": "wWOqK1ei48ZB"
      },
      "execution_count": null,
      "outputs": []
    },
    {
      "cell_type": "code",
      "source": [
        "cuenta_1['limite']"
      ],
      "metadata": {
        "colab": {
          "base_uri": "https://localhost:8080/"
        },
        "id": "OAXH55uU5Iqx",
        "outputId": "422d94a5-daeb-4525-84da-0798087fcef9"
      },
      "execution_count": null,
      "outputs": [
        {
          "output_type": "execute_result",
          "data": {
            "text/plain": [
              "1000.0"
            ]
          },
          "metadata": {},
          "execution_count": 8
        }
      ]
    },
    {
      "cell_type": "code",
      "source": [
        "def cuenta(numero, titular, saldo, limite):\n",
        "  cuenta = {'numero':numero,\n",
        "            'titular':titular,\n",
        "            'saldo': saldo,\n",
        "            'limite': limite}\n",
        "  return cuenta"
      ],
      "metadata": {
        "id": "-3rhTlNn5LIS"
      },
      "execution_count": null,
      "outputs": []
    },
    {
      "cell_type": "code",
      "source": [
        "cuenta(321,'Jose',100.0,1000.0)"
      ],
      "metadata": {
        "colab": {
          "base_uri": "https://localhost:8080/"
        },
        "id": "CCcbKP015nbJ",
        "outputId": "ca39077a-cbcb-4721-bcef-b54f5109b6e9"
      },
      "execution_count": null,
      "outputs": [
        {
          "output_type": "execute_result",
          "data": {
            "text/plain": [
              "{'numero': 321, 'titular': 'Jose', 'saldo': 100.0, 'limite': 1000.0}"
            ]
          },
          "metadata": {},
          "execution_count": 10
        }
      ]
    },
    {
      "cell_type": "code",
      "source": [
        "cuenta_1 = cuenta(321,'Jose',100.0,1000.0)"
      ],
      "metadata": {
        "id": "blu-PAIO55AB"
      },
      "execution_count": null,
      "outputs": []
    },
    {
      "cell_type": "code",
      "source": [
        "cuenta_1['numero']"
      ],
      "metadata": {
        "colab": {
          "base_uri": "https://localhost:8080/"
        },
        "id": "-EtMpawq6N95",
        "outputId": "17331bea-7dca-4972-a36f-fa903a6fa6e0"
      },
      "execution_count": null,
      "outputs": [
        {
          "output_type": "execute_result",
          "data": {
            "text/plain": [
              "321"
            ]
          },
          "metadata": {},
          "execution_count": 12
        }
      ]
    },
    {
      "cell_type": "code",
      "source": [
        "def retira(cuenta,valor):\n",
        "  cuenta['saldo'] -= valor\n",
        "\n",
        "def deposita(cuenta,valor):\n",
        "  cuenta['saldo'] += valor\n",
        "\n",
        "def extracto(cuenta):\n",
        "  print(f'El saldo de la cuenta de {cuenta[\"titular\"]} es: {cuenta[\"saldo\"]}')"
      ],
      "metadata": {
        "id": "-4P7N3Wc8rhD"
      },
      "execution_count": null,
      "outputs": []
    },
    {
      "cell_type": "code",
      "source": [
        "retira(cuenta_1,40)"
      ],
      "metadata": {
        "id": "vIu-a19b-CTo"
      },
      "execution_count": null,
      "outputs": []
    },
    {
      "cell_type": "code",
      "source": [
        "extracto(cuenta_1)"
      ],
      "metadata": {
        "colab": {
          "base_uri": "https://localhost:8080/"
        },
        "id": "GLCeiBda-G3K",
        "outputId": "0f5083ce-a6c0-41ae-e5ed-e1447c6269b2"
      },
      "execution_count": null,
      "outputs": [
        {
          "output_type": "stream",
          "name": "stdout",
          "text": [
            "El saldo de la cuenta de Jose es: 60.0\n"
          ]
        }
      ]
    },
    {
      "cell_type": "code",
      "source": [
        "deposita(cuenta_1,100.0)"
      ],
      "metadata": {
        "id": "77FFV02C-LAJ"
      },
      "execution_count": null,
      "outputs": []
    },
    {
      "cell_type": "code",
      "source": [
        "extracto(cuenta_1)"
      ],
      "metadata": {
        "colab": {
          "base_uri": "https://localhost:8080/"
        },
        "id": "rmb-GzF8-REx",
        "outputId": "8906472b-071d-4ca8-b949-b336760f3d18"
      },
      "execution_count": null,
      "outputs": [
        {
          "output_type": "stream",
          "name": "stdout",
          "text": [
            "El saldo de la cuenta de Jose es: 160.0\n"
          ]
        }
      ]
    },
    {
      "cell_type": "code",
      "source": [
        "cuenta_2 = {'numero':321,\n",
        "            'limite': 1000.0}"
      ],
      "metadata": {
        "id": "CirCQ4hT-TQB"
      },
      "execution_count": null,
      "outputs": []
    },
    {
      "cell_type": "code",
      "source": [
        "# extracto(cuenta_2)"
      ],
      "metadata": {
        "id": "dhIGJ6UW--2C"
      },
      "execution_count": null,
      "outputs": []
    },
    {
      "cell_type": "code",
      "source": [],
      "metadata": {
        "id": "G_CIghb0mI0O"
      },
      "execution_count": null,
      "outputs": []
    }
  ]
}